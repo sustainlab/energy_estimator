{
 "cells": [
  {
   "cell_type": "markdown",
   "metadata": {},
   "source": [
    "Create cache files of the input data for the seasonal baseline computation. The data for each month and each home will be stored separately. This allows to later read the complete data for individual months without having to read the full set of readings for each home."
   ]
  },
  {
   "cell_type": "code",
   "execution_count": 1,
   "metadata": {},
   "outputs": [
    {
     "name": "stdout",
     "output_type": "stream",
     "text": [
      "Populating the interactive namespace from numpy and matplotlib\n"
     ]
    }
   ],
   "source": [
    "%pylab inline"
   ]
  },
  {
   "cell_type": "code",
   "execution_count": 2,
   "metadata": {},
   "outputs": [],
   "source": [
    "import sys\n",
    "sys.path.insert(0, '../src')\n",
    "\n",
    "import pickle\n",
    "import datetime\n",
    "\n",
    "import numpy as np\n",
    "import pandas as pd\n",
    "\n",
    "import seaborn as sns\n",
    "\n",
    "from pathlib import Path\n",
    "from multiprocessing import Pool\n",
    "from functools import partial\n",
    "\n",
    "from IdealDataInterface import IdealDataInterface\n",
    "\n",
    "from config import SENSOR_DATA_FOLDER, CACHE_FOLDER, CPU_HIGH_MEMMORY, CPU_LOW_MEMMORY\n",
    "from config import EVALUATION_PERIOD, FFILL_LIMIT, SAMPLING_WINDOW_BASELINE\n",
    "from utils import treatment_control, load_mains\n",
    "from sampling import data_to_sample_array"
   ]
  },
  {
   "cell_type": "code",
   "execution_count": 3,
   "metadata": {},
   "outputs": [],
   "source": [
    "# Run plotting styles\n",
    "%run -i '../src/sns_styles.py'\n",
    "\n",
    "cmap = sns.color_palette()"
   ]
  },
  {
   "cell_type": "raw",
   "metadata": {},
   "source": [
    "data_interface = IdealDataInterface(SENSOR_DATA_FOLDER)"
   ]
  },
  {
   "cell_type": "raw",
   "metadata": {},
   "source": [
    "df_sensors = data_interface.view(subtype='electric-combined')\n",
    "\n",
    "df_sensors.head()"
   ]
  },
  {
   "cell_type": "code",
   "execution_count": 4,
   "metadata": {},
   "outputs": [
    {
     "data": {
      "text/html": [
       "<div>\n",
       "<style scoped>\n",
       "    .dataframe tbody tr th:only-of-type {\n",
       "        vertical-align: middle;\n",
       "    }\n",
       "\n",
       "    .dataframe tbody tr th {\n",
       "        vertical-align: top;\n",
       "    }\n",
       "\n",
       "    .dataframe thead th {\n",
       "        text-align: right;\n",
       "    }\n",
       "</style>\n",
       "<table border=\"1\" class=\"dataframe\">\n",
       "  <thead>\n",
       "    <tr style=\"text-align: right;\">\n",
       "      <th></th>\n",
       "      <th>homeid</th>\n",
       "      <th>group</th>\n",
       "      <th>start_date</th>\n",
       "      <th>end_date</th>\n",
       "    </tr>\n",
       "  </thead>\n",
       "  <tbody>\n",
       "    <tr>\n",
       "      <th>263</th>\n",
       "      <td>331</td>\n",
       "      <td>treatment</td>\n",
       "      <td>2018-05-15</td>\n",
       "      <td>2018-06-30</td>\n",
       "    </tr>\n",
       "    <tr>\n",
       "      <th>264</th>\n",
       "      <td>332</td>\n",
       "      <td>treatment</td>\n",
       "      <td>2018-05-15</td>\n",
       "      <td>2018-06-30</td>\n",
       "    </tr>\n",
       "    <tr>\n",
       "      <th>265</th>\n",
       "      <td>334</td>\n",
       "      <td>control</td>\n",
       "      <td>2018-05-15</td>\n",
       "      <td>2018-06-30</td>\n",
       "    </tr>\n",
       "    <tr>\n",
       "      <th>266</th>\n",
       "      <td>335</td>\n",
       "      <td>treatment</td>\n",
       "      <td>2018-05-15</td>\n",
       "      <td>2018-06-30</td>\n",
       "    </tr>\n",
       "    <tr>\n",
       "      <th>267</th>\n",
       "      <td>333</td>\n",
       "      <td>control</td>\n",
       "      <td>2018-05-15</td>\n",
       "      <td>2018-06-30</td>\n",
       "    </tr>\n",
       "  </tbody>\n",
       "</table>\n",
       "</div>"
      ],
      "text/plain": [
       "    homeid      group start_date   end_date\n",
       "263    331  treatment 2018-05-15 2018-06-30\n",
       "264    332  treatment 2018-05-15 2018-06-30\n",
       "265    334    control 2018-05-15 2018-06-30\n",
       "266    335  treatment 2018-05-15 2018-06-30\n",
       "267    333    control 2018-05-15 2018-06-30"
      ]
     },
     "execution_count": 4,
     "metadata": {},
     "output_type": "execute_result"
    }
   ],
   "source": [
    "# Load the information about when each home was assigned to treatment or control. The start_date column sets \n",
    "# the end for the baseline period. This is currently hard-coded into the analysis pipeline. If the estimator\n",
    "# should be used for other data, the function treatment_control() must be modified to return a similar table.\n",
    "df_group = treatment_control()\n",
    "\n",
    "df_group.tail()"
   ]
  },
  {
   "cell_type": "code",
   "execution_count": 5,
   "metadata": {},
   "outputs": [
    {
     "name": "stdout",
     "output_type": "stream",
     "text": [
      "Found 107 homes in the control group\n",
      "Found 107 homes in the treatment group\n",
      "Found 39 homes in the enhanced group\n"
     ]
    }
   ],
   "source": [
    "# Split into control and treatment group\n",
    "homeid_control = df_group.loc[df_group['group'] == 'control','homeid']\n",
    "homeid_treatment = df_group.loc[df_group['group'] == 'treatment','homeid']\n",
    "homeid_enhanced = df_group.loc[df_group['group'] == 'enhanced','homeid']\n",
    "\n",
    "print('Found {} homes in the control group'.format(len(homeid_control)))\n",
    "print('Found {} homes in the treatment group'.format(len(homeid_treatment)))\n",
    "print('Found {} homes in the enhanced group'.format(len(homeid_enhanced)))"
   ]
  },
  {
   "cell_type": "code",
   "execution_count": 6,
   "metadata": {},
   "outputs": [
    {
     "name": "stdout",
     "output_type": "stream",
     "text": [
      "Skipping files which are already found in /disk/scratch/nberline/impact/cache/seasonal_background_estimate\n"
     ]
    }
   ],
   "source": [
    "# This is were the data will be stored\n",
    "fpath = CACHE_FOLDER / Path('seasonal_background_estimate/')\n",
    "\n",
    "if not fpath.is_dir():\n",
    "    fpath.mkdir()\n",
    "\n",
    "# The filename for each individual array. The data for each home and each month will be stored in a separate\n",
    "# file. This way it is possible to only load the data for an individual month.\n",
    "fname_func = lambda homeid, month: fpath / Path('sample_array_homeid{}_month{}.npz'.format(homeid, month))\n",
    "\n",
    "print('Skipping files which are already found in {}'.format(fpath))\n",
    "\n",
    "# Load the electricity readings, create the array to sample from (see Section 4.1. of the documentation on\n",
    "# Overleaf), and store the result to disk.\n",
    "def load_sampling_array(homeid):\n",
    "    # Load the mains electricity readings using the IdealDataInterface\n",
    "    ts = load_mains(homeid)\n",
    "      \n",
    "    # Iterate over each month and create the sampling array\n",
    "    for month in range(1,13):\n",
    "        # Skip files that are already loaded\n",
    "        if fname_func(homeid, month).is_file():\n",
    "            continue\n",
    "        \n",
    "        # Select the respective month and resample to (re-)introduce the missing periods as NaN\n",
    "        # This is needed for data_to_sample_array()\n",
    "        tmp = ts[ts.index.month == month].copy().asfreq('1s')\n",
    "\n",
    "        # If no reading is available during the month skip it\n",
    "        if tmp.isna().all():\n",
    "            continue\n",
    "            \n",
    "        # Only compute the array if at least seven full days worth of data are available (including missing)\n",
    "        if (tmp.index.floor('D').max() - tmp.index.ceil('D').min()) < pd.Timedelta(days=7):\n",
    "            continue\n",
    "        \n",
    "        # Compute the sampling array\n",
    "        try:\n",
    "            # The window_width is set to zero here as this can be done more efficiently once all the\n",
    "            # arrays are loaded and combined (see next notebook).\n",
    "            arr, idx = data_to_sample_array(tmp, window_width=None, copy=False, force_freq=False)\n",
    "            np.savez_compressed(fname_func(homeid, month), arr=arr, idx=idx)\n",
    "        except:\n",
    "            print('Error in home {} for month{}.'.format(homeid, month))\n",
    "            pass\n",
    "    \n",
    "    return"
   ]
  },
  {
   "cell_type": "code",
   "execution_count": 7,
   "metadata": {
    "scrolled": false
   },
   "outputs": [
    {
     "name": "stdout",
     "output_type": "stream",
     "text": [
      "Computing the arrays to sample from. This may take a while..\n",
      "Done.\n"
     ]
    }
   ],
   "source": [
    "# Define which homes should be loaded.\n",
    "homes_to_load = list(homeid_control) + list(homeid_treatment) + list(homeid_enhanced)\n",
    "\n",
    "# Pool() here creates a multiprocessing pool with CPU_HIGH_MEMMORY number of workers to compute load_sampling_array()\n",
    "# which are passed the elements in homes_to_load as arguments. Note that pool.map() might not work if the function\n",
    "# that should be computed (in this case load_sampling_array) would return a large array. From what I understood, this\n",
    "# is somehow related to the maximum size of objects that can be put through some internal 'pipe mechanism' or\n",
    "# whatever it might be. Bottomline, the result is written to disk directly within the function avoiding the need\n",
    "# to pass around large arrays.\n",
    "print('Computing the arrays to sample from. This may take a while..')\n",
    "with Pool(processes=CPU_HIGH_MEMMORY) as pool:\n",
    "    pool.map(load_sampling_array, homes_to_load)\n",
    "print('Done.')"
   ]
  },
  {
   "cell_type": "code",
   "execution_count": null,
   "metadata": {},
   "outputs": [],
   "source": []
  },
  {
   "cell_type": "code",
   "execution_count": null,
   "metadata": {},
   "outputs": [],
   "source": []
  }
 ],
 "metadata": {
  "kernelspec": {
   "display_name": "Python 3",
   "language": "python",
   "name": "python3"
  },
  "language_info": {
   "codemirror_mode": {
    "name": "ipython",
    "version": 3
   },
   "file_extension": ".py",
   "mimetype": "text/x-python",
   "name": "python",
   "nbconvert_exporter": "python",
   "pygments_lexer": "ipython3",
   "version": "3.7.3"
  }
 },
 "nbformat": 4,
 "nbformat_minor": 2
}
