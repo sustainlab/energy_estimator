{
 "cells": [
  {
   "cell_type": "code",
   "execution_count": 1,
   "metadata": {},
   "outputs": [
    {
     "name": "stdout",
     "output_type": "stream",
     "text": [
      "Populating the interactive namespace from numpy and matplotlib\n"
     ]
    }
   ],
   "source": [
    "%pylab inline"
   ]
  },
  {
   "cell_type": "code",
   "execution_count": 2,
   "metadata": {},
   "outputs": [],
   "source": [
    "import sys\n",
    "sys.path.insert(0, '../src')\n",
    "\n",
    "import pickle\n",
    "import datetime\n",
    "\n",
    "import numpy as np\n",
    "import pandas as pd\n",
    "\n",
    "import seaborn as sns\n",
    "import matplotlib.ticker as plticker\n",
    "\n",
    "from datetime import timedelta\n",
    "from pathlib import Path\n",
    "from multiprocessing import Pool\n",
    "from functools import partial\n",
    "\n",
    "from IdealDataInterface import IdealDataInterface\n",
    "\n",
    "from config import TIME_FORMAT, SAMPLING_MASK\n",
    "from config import SENSOR_DATA_FOLDER, CACHE_FOLDER, CPU_HIGH_MEMMORY, CPU_LOW_MEMMORY\n",
    "from config import EVALUATION_PERIOD, FFILL_LIMIT, N_SAMPLES, SAMPLING_WINDOW\n",
    "from utils import treatment_control, load_cached_data\n",
    "from sampling import data_to_sample_array, sample_energy, compute_sample_sizes, compute_estimate"
   ]
  },
  {
   "cell_type": "code",
   "execution_count": 3,
   "metadata": {},
   "outputs": [],
   "source": [
    "# Run plotting styles\n",
    "%run -i '../src/sns_styles.py'\n",
    "\n",
    "cmap = sns.color_palette()"
   ]
  },
  {
   "cell_type": "code",
   "execution_count": 4,
   "metadata": {},
   "outputs": [],
   "source": [
    "def estimate_period(period, N, SAMPLING_MASK, SAMPLING_WINDOW):\n",
    "    # Load the data, exclude homes which bad data availability. See notebook 02.1-... for the\n",
    "    # generation of the cached files.\n",
    "    df = load_cached_data(period, full=False)\n",
    "    \n",
    "    # Compute the estimate per home using all cores. This will compute each home on a individual core.\n",
    "    func = partial(compute_estimate, N=N, SAMPLING_MASK=SAMPLING_MASK, SAMPLING_WINDOW=SAMPLING_WINDOW)\n",
    "\n",
    "    with Pool(processes=CPU_LOW_MEMMORY) as pool:\n",
    "        estimates = pool.map(func, [ df[c] for c in df.columns ])\n",
    "        \n",
    "    # Put everything into a DataFrame\n",
    "    df_result = pd.DataFrame(estimates)\n",
    "    df_result['homeid'] = df.columns\n",
    "    df_result['period'] = period\n",
    "\n",
    "    return df_result"
   ]
  },
  {
   "cell_type": "markdown",
   "metadata": {},
   "source": [
    "## Compute the estimates per period"
   ]
  },
  {
   "cell_type": "code",
   "execution_count": 5,
   "metadata": {},
   "outputs": [
    {
     "name": "stdout",
     "output_type": "stream",
     "text": [
      "Computing period P1_1..\n",
      "Computing period P1_2..\n",
      "Computing period P2_1..\n",
      "Computing period P2_2..\n",
      "Computing period P3..\n",
      "Done.\n"
     ]
    }
   ],
   "source": [
    "result = list()\n",
    "\n",
    "for period in EVALUATION_PERIOD.keys():\n",
    "    print('Computing period {}..'.format(period))\n",
    "    # Compute the estimates for each home in that period\n",
    "    df = estimate_period(period, N_SAMPLES, SAMPLING_MASK, SAMPLING_WINDOW)\n",
    "    \n",
    "    # Store everything in a list\n",
    "    result.append(df)\n",
    "    \n",
    "print('Done.')"
   ]
  },
  {
   "cell_type": "code",
   "execution_count": null,
   "metadata": {},
   "outputs": [],
   "source": [
    "# << Can you add a description here of what df_result is showing? It's pretty clear to me except for min_sample_size and samples_missing.\n",
    "# The columns of df_result are described in the documentation on overleaf. They are as follows,\n",
    "#\n",
    "# homeid          | The homeid\n",
    "# period          | The name of the period as defined in the config file\n",
    "# estimate_mean   | The mean energy estimate, i.e. the mean of the sums. Will be NaN if it cannot be computed.\n",
    "# estimate_std    | The standard deviation of the estimates, i.e. the std of the sums. Will be NaN if \n",
    "#                 | it cannot be computed.\n",
    "# min_sample_size | The absolute minimum sample size to sample one time point (worst case)\n",
    "# samples_missing | If there are time points with min\\_sample\\_size equal to 0, this will count the number \n",
    "#                 | of time points for which no samples could be drawn. This might be helpful to know in case\n",
    "#                 | the available samples should be increased for example by increasing the window width\n",
    "# missing_data    | The percentage of missing data in the input time series"
   ]
  },
  {
   "cell_type": "code",
   "execution_count": 6,
   "metadata": {},
   "outputs": [
    {
     "data": {
      "text/html": [
       "<div>\n",
       "<style scoped>\n",
       "    .dataframe tbody tr th:only-of-type {\n",
       "        vertical-align: middle;\n",
       "    }\n",
       "\n",
       "    .dataframe tbody tr th {\n",
       "        vertical-align: top;\n",
       "    }\n",
       "\n",
       "    .dataframe thead th {\n",
       "        text-align: right;\n",
       "    }\n",
       "</style>\n",
       "<table border=\"1\" class=\"dataframe\">\n",
       "  <thead>\n",
       "    <tr style=\"text-align: right;\">\n",
       "      <th></th>\n",
       "      <th>estimate_mean</th>\n",
       "      <th>estimate_std</th>\n",
       "      <th>min_sample_size</th>\n",
       "      <th>missing_data</th>\n",
       "      <th>samples_missing</th>\n",
       "      <th>homeid</th>\n",
       "      <th>period</th>\n",
       "    </tr>\n",
       "  </thead>\n",
       "  <tbody>\n",
       "    <tr>\n",
       "      <th>0</th>\n",
       "      <td>6.184670</td>\n",
       "      <td>0.028219</td>\n",
       "      <td>7569</td>\n",
       "      <td>0.026611</td>\n",
       "      <td>0</td>\n",
       "      <td>59</td>\n",
       "      <td>P1_1</td>\n",
       "    </tr>\n",
       "    <tr>\n",
       "      <th>1</th>\n",
       "      <td>12.604855</td>\n",
       "      <td>0.038171</td>\n",
       "      <td>8181</td>\n",
       "      <td>0.003662</td>\n",
       "      <td>0</td>\n",
       "      <td>74</td>\n",
       "      <td>P1_1</td>\n",
       "    </tr>\n",
       "    <tr>\n",
       "      <th>2</th>\n",
       "      <td>5.475857</td>\n",
       "      <td>0.033081</td>\n",
       "      <td>7853</td>\n",
       "      <td>0.022078</td>\n",
       "      <td>0</td>\n",
       "      <td>78</td>\n",
       "      <td>P1_1</td>\n",
       "    </tr>\n",
       "    <tr>\n",
       "      <th>3</th>\n",
       "      <td>4.932472</td>\n",
       "      <td>0.026409</td>\n",
       "      <td>8159</td>\n",
       "      <td>0.005062</td>\n",
       "      <td>0</td>\n",
       "      <td>71</td>\n",
       "      <td>P1_1</td>\n",
       "    </tr>\n",
       "    <tr>\n",
       "      <th>4</th>\n",
       "      <td>11.193172</td>\n",
       "      <td>0.051557</td>\n",
       "      <td>7942</td>\n",
       "      <td>0.016887</td>\n",
       "      <td>0</td>\n",
       "      <td>79</td>\n",
       "      <td>P1_1</td>\n",
       "    </tr>\n",
       "  </tbody>\n",
       "</table>\n",
       "</div>"
      ],
      "text/plain": [
       "   estimate_mean  estimate_std  min_sample_size  missing_data  \\\n",
       "0       6.184670      0.028219             7569      0.026611   \n",
       "1      12.604855      0.038171             8181      0.003662   \n",
       "2       5.475857      0.033081             7853      0.022078   \n",
       "3       4.932472      0.026409             8159      0.005062   \n",
       "4      11.193172      0.051557             7942      0.016887   \n",
       "\n",
       "   samples_missing homeid period  \n",
       "0                0     59   P1_1  \n",
       "1                0     74   P1_1  \n",
       "2                0     78   P1_1  \n",
       "3                0     71   P1_1  \n",
       "4                0     79   P1_1  "
      ]
     },
     "execution_count": 6,
     "metadata": {},
     "output_type": "execute_result"
    }
   ],
   "source": [
    "df_result = pd.concat(result)\n",
    "\n",
    "df_result.head()"
   ]
  },
  {
   "cell_type": "code",
   "execution_count": 7,
   "metadata": {},
   "outputs": [],
   "source": [
    "fname = '../data/estimated_average_electricity_use.csv'\n",
    "\n",
    "df_result = df_result[['homeid', 'period', 'estimate_mean', 'estimate_std', 'min_sample_size', \n",
    "                       'samples_missing', 'missing_data']]\n",
    "\n",
    "df_result.to_csv(fname, sep='\\t', float_format='%.3f', index=False)"
   ]
  },
  {
   "cell_type": "code",
   "execution_count": null,
   "metadata": {},
   "outputs": [],
   "source": []
  }
 ],
 "metadata": {
  "kernelspec": {
   "display_name": "Python 3",
   "language": "python",
   "name": "python3"
  },
  "language_info": {
   "codemirror_mode": {
    "name": "ipython",
    "version": 3
   },
   "file_extension": ".py",
   "mimetype": "text/x-python",
   "name": "python",
   "nbconvert_exporter": "python",
   "pygments_lexer": "ipython3",
   "version": "3.6.8"
  }
 },
 "nbformat": 4,
 "nbformat_minor": 2
}
