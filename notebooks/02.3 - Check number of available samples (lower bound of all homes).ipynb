{
 "cells": [
  {
   "cell_type": "markdown",
   "metadata": {},
   "source": [
    "If we assume that we can use the Central Limit Theorem and bootstrap energy estimates for a day, we need an estimate of the 'true' distribution. For this, we take the readings of each period as estimate. The question of this notebook is how many examples per time-bin for varying window_width parameter we have (the more examples the better)."
   ]
  },
  {
   "cell_type": "code",
   "execution_count": 1,
   "metadata": {},
   "outputs": [
    {
     "name": "stdout",
     "output_type": "stream",
     "text": [
      "Populating the interactive namespace from numpy and matplotlib\n"
     ]
    }
   ],
   "source": [
    "%pylab inline"
   ]
  },
  {
   "cell_type": "code",
   "execution_count": 2,
   "metadata": {},
   "outputs": [],
   "source": [
    "import sys\n",
    "sys.path.insert(0, '../src')\n",
    "\n",
    "import pickle\n",
    "import datetime\n",
    "\n",
    "import numpy as np\n",
    "import pandas as pd\n",
    "\n",
    "import seaborn as sns\n",
    "\n",
    "from pathlib import Path\n",
    "from multiprocessing import Pool\n",
    "from functools import partial\n",
    "\n",
    "from IdealDataInterface import IdealDataInterface\n",
    "\n",
    "from config import SENSOR_DATA_FOLDER, CACHE_FOLDER\n",
    "from config import EVALUATION_PERIOD, CPU_HIGH_MEMMORY, CPU_LOW_MEMMORY\n",
    "\n",
    "from utils import load_cached_data\n",
    "from sampling import data_to_sample_array, compute_sample_sizes"
   ]
  },
  {
   "cell_type": "code",
   "execution_count": 3,
   "metadata": {},
   "outputs": [],
   "source": [
    "# Run plotting styles\n",
    "%run -i '../src/sns_styles.py'\n",
    "\n",
    "cmap = sns.color_palette()"
   ]
  },
  {
   "cell_type": "code",
   "execution_count": 4,
   "metadata": {},
   "outputs": [],
   "source": [
    "# Store the result in here\n",
    "sample_sizes = dict()\n",
    "\n",
    "# Compute the available sample size if the following seconds around the center are included\n",
    "# The sample size for 0 seconds will always be included.\n",
    "seconds = np.array([0,1,2,3,4,5,15,30,60,5*60])"
   ]
  },
  {
   "cell_type": "markdown",
   "metadata": {},
   "source": [
    "# Compute the available sample sizes"
   ]
  },
  {
   "cell_type": "code",
   "execution_count": 5,
   "metadata": {},
   "outputs": [
    {
     "name": "stdout",
     "output_type": "stream",
     "text": [
      "Computing the sampling sizes. This may take a while..\n",
      "Done.\n"
     ]
    }
   ],
   "source": [
    "func = partial(compute_sample_sizes, seconds=seconds)\n",
    "\n",
    "print('Computing the sampling sizes. This may take a while..')\n",
    "\n",
    "for period in EVALUATION_PERIOD.keys():\n",
    "    # Load the data, only keep homes with enough data (see config.py)\n",
    "    df = load_cached_data(period, full=False)\n",
    "\n",
    "    # Compute the sample sizes\n",
    "    with Pool(processes=CPU_LOW_MEMMORY) as pool:\n",
    "        sample_sizes[period] = pool.map(func, [ df.loc[:,c] for c in df.columns ])\n",
    "\n",
    "print('Done.')"
   ]
  },
  {
   "cell_type": "markdown",
   "metadata": {},
   "source": [
    "# Absolute minimum of samples to draw from\n",
    "\n",
    "This looks at the worst case for at least time point for at least one home during that period. If a value of zero appears, there is at least one home for which the estimate cannot be computed."
   ]
  },
  {
   "cell_type": "code",
   "execution_count": 6,
   "metadata": {},
   "outputs": [
    {
     "data": {
      "text/html": [
       "<div>\n",
       "<style scoped>\n",
       "    .dataframe tbody tr th:only-of-type {\n",
       "        vertical-align: middle;\n",
       "    }\n",
       "\n",
       "    .dataframe tbody tr th {\n",
       "        vertical-align: top;\n",
       "    }\n",
       "\n",
       "    .dataframe thead th {\n",
       "        text-align: right;\n",
       "    }\n",
       "</style>\n",
       "<table border=\"1\" class=\"dataframe\">\n",
       "  <thead>\n",
       "    <tr style=\"text-align: right;\">\n",
       "      <th></th>\n",
       "      <th>P1_1</th>\n",
       "      <th>P1_2</th>\n",
       "      <th>P2_1</th>\n",
       "      <th>P2_2</th>\n",
       "      <th>P3</th>\n",
       "    </tr>\n",
       "  </thead>\n",
       "  <tbody>\n",
       "    <tr>\n",
       "      <th>0</th>\n",
       "      <td>43</td>\n",
       "      <td>35</td>\n",
       "      <td>29</td>\n",
       "      <td>15</td>\n",
       "      <td>26</td>\n",
       "    </tr>\n",
       "    <tr>\n",
       "      <th>1</th>\n",
       "      <td>129</td>\n",
       "      <td>106</td>\n",
       "      <td>89</td>\n",
       "      <td>45</td>\n",
       "      <td>78</td>\n",
       "    </tr>\n",
       "    <tr>\n",
       "      <th>2</th>\n",
       "      <td>215</td>\n",
       "      <td>178</td>\n",
       "      <td>150</td>\n",
       "      <td>77</td>\n",
       "      <td>130</td>\n",
       "    </tr>\n",
       "    <tr>\n",
       "      <th>3</th>\n",
       "      <td>301</td>\n",
       "      <td>250</td>\n",
       "      <td>214</td>\n",
       "      <td>109</td>\n",
       "      <td>182</td>\n",
       "    </tr>\n",
       "    <tr>\n",
       "      <th>4</th>\n",
       "      <td>387</td>\n",
       "      <td>325</td>\n",
       "      <td>280</td>\n",
       "      <td>141</td>\n",
       "      <td>234</td>\n",
       "    </tr>\n",
       "    <tr>\n",
       "      <th>5</th>\n",
       "      <td>473</td>\n",
       "      <td>404</td>\n",
       "      <td>347</td>\n",
       "      <td>173</td>\n",
       "      <td>286</td>\n",
       "    </tr>\n",
       "    <tr>\n",
       "      <th>15</th>\n",
       "      <td>1359</td>\n",
       "      <td>1242</td>\n",
       "      <td>1026</td>\n",
       "      <td>503</td>\n",
       "      <td>831</td>\n",
       "    </tr>\n",
       "    <tr>\n",
       "      <th>30</th>\n",
       "      <td>2712</td>\n",
       "      <td>2510</td>\n",
       "      <td>2060</td>\n",
       "      <td>1017</td>\n",
       "      <td>1642</td>\n",
       "    </tr>\n",
       "    <tr>\n",
       "      <th>60</th>\n",
       "      <td>5384</td>\n",
       "      <td>5061</td>\n",
       "      <td>4135</td>\n",
       "      <td>2253</td>\n",
       "      <td>3358</td>\n",
       "    </tr>\n",
       "    <tr>\n",
       "      <th>300</th>\n",
       "      <td>28048</td>\n",
       "      <td>25639</td>\n",
       "      <td>21764</td>\n",
       "      <td>13087</td>\n",
       "      <td>17737</td>\n",
       "    </tr>\n",
       "  </tbody>\n",
       "</table>\n",
       "</div>"
      ],
      "text/plain": [
       "      P1_1   P1_2   P2_1   P2_2     P3\n",
       "0       43     35     29     15     26\n",
       "1      129    106     89     45     78\n",
       "2      215    178    150     77    130\n",
       "3      301    250    214    109    182\n",
       "4      387    325    280    141    234\n",
       "5      473    404    347    173    286\n",
       "15    1359   1242   1026    503    831\n",
       "30    2712   2510   2060   1017   1642\n",
       "60    5384   5061   4135   2253   3358\n",
       "300  28048  25639  21764  13087  17737"
      ]
     },
     "execution_count": 6,
     "metadata": {},
     "output_type": "execute_result"
    }
   ],
   "source": [
    "dat = { p:[ min([ i[s].min() for i in sample_sizes[p] ]) for s in seconds ] for p in EVALUATION_PERIOD.keys() }\n",
    "\n",
    "df_sampling_min = pd.DataFrame(dat, index=seconds)\n",
    "\n",
    "df_sampling_min"
   ]
  },
  {
   "cell_type": "markdown",
   "metadata": {},
   "source": [
    "# 1 percentile of samples to draw from\n",
    "\n",
    "Instead of the absolute minimum, check the minimum of the 99 centile per home. The 99 centile is computed for each home (across the time points of the day) and the minimum of those is displayed."
   ]
  },
  {
   "cell_type": "code",
   "execution_count": 7,
   "metadata": {},
   "outputs": [
    {
     "data": {
      "text/html": [
       "<div>\n",
       "<style scoped>\n",
       "    .dataframe tbody tr th:only-of-type {\n",
       "        vertical-align: middle;\n",
       "    }\n",
       "\n",
       "    .dataframe tbody tr th {\n",
       "        vertical-align: top;\n",
       "    }\n",
       "\n",
       "    .dataframe thead th {\n",
       "        text-align: right;\n",
       "    }\n",
       "</style>\n",
       "<table border=\"1\" class=\"dataframe\">\n",
       "  <thead>\n",
       "    <tr style=\"text-align: right;\">\n",
       "      <th></th>\n",
       "      <th>P1_1</th>\n",
       "      <th>P1_2</th>\n",
       "      <th>P2_1</th>\n",
       "      <th>P2_2</th>\n",
       "      <th>P3</th>\n",
       "    </tr>\n",
       "  </thead>\n",
       "  <tbody>\n",
       "    <tr>\n",
       "      <th>0</th>\n",
       "      <td>47.00</td>\n",
       "      <td>40.00</td>\n",
       "      <td>35.00</td>\n",
       "      <td>23.00</td>\n",
       "      <td>30.00</td>\n",
       "    </tr>\n",
       "    <tr>\n",
       "      <th>1</th>\n",
       "      <td>141.00</td>\n",
       "      <td>122.00</td>\n",
       "      <td>105.00</td>\n",
       "      <td>69.00</td>\n",
       "      <td>89.00</td>\n",
       "    </tr>\n",
       "    <tr>\n",
       "      <th>2</th>\n",
       "      <td>235.00</td>\n",
       "      <td>205.00</td>\n",
       "      <td>176.00</td>\n",
       "      <td>114.00</td>\n",
       "      <td>148.00</td>\n",
       "    </tr>\n",
       "    <tr>\n",
       "      <th>3</th>\n",
       "      <td>329.00</td>\n",
       "      <td>288.00</td>\n",
       "      <td>247.00</td>\n",
       "      <td>160.00</td>\n",
       "      <td>207.00</td>\n",
       "    </tr>\n",
       "    <tr>\n",
       "      <th>4</th>\n",
       "      <td>422.00</td>\n",
       "      <td>372.00</td>\n",
       "      <td>318.00</td>\n",
       "      <td>206.00</td>\n",
       "      <td>266.00</td>\n",
       "    </tr>\n",
       "    <tr>\n",
       "      <th>5</th>\n",
       "      <td>516.00</td>\n",
       "      <td>456.00</td>\n",
       "      <td>389.00</td>\n",
       "      <td>252.00</td>\n",
       "      <td>326.00</td>\n",
       "    </tr>\n",
       "    <tr>\n",
       "      <th>15</th>\n",
       "      <td>1452.99</td>\n",
       "      <td>1318.00</td>\n",
       "      <td>1109.00</td>\n",
       "      <td>715.00</td>\n",
       "      <td>919.00</td>\n",
       "    </tr>\n",
       "    <tr>\n",
       "      <th>30</th>\n",
       "      <td>2853.00</td>\n",
       "      <td>2616.00</td>\n",
       "      <td>2197.00</td>\n",
       "      <td>1408.00</td>\n",
       "      <td>1815.00</td>\n",
       "    </tr>\n",
       "    <tr>\n",
       "      <th>60</th>\n",
       "      <td>5680.00</td>\n",
       "      <td>5206.99</td>\n",
       "      <td>4391.99</td>\n",
       "      <td>2749.99</td>\n",
       "      <td>3629.99</td>\n",
       "    </tr>\n",
       "    <tr>\n",
       "      <th>300</th>\n",
       "      <td>28569.99</td>\n",
       "      <td>25939.00</td>\n",
       "      <td>22094.00</td>\n",
       "      <td>13614.00</td>\n",
       "      <td>18366.00</td>\n",
       "    </tr>\n",
       "  </tbody>\n",
       "</table>\n",
       "</div>"
      ],
      "text/plain": [
       "         P1_1      P1_2      P2_1      P2_2        P3\n",
       "0       47.00     40.00     35.00     23.00     30.00\n",
       "1      141.00    122.00    105.00     69.00     89.00\n",
       "2      235.00    205.00    176.00    114.00    148.00\n",
       "3      329.00    288.00    247.00    160.00    207.00\n",
       "4      422.00    372.00    318.00    206.00    266.00\n",
       "5      516.00    456.00    389.00    252.00    326.00\n",
       "15    1452.99   1318.00   1109.00    715.00    919.00\n",
       "30    2853.00   2616.00   2197.00   1408.00   1815.00\n",
       "60    5680.00   5206.99   4391.99   2749.99   3629.99\n",
       "300  28569.99  25939.00  22094.00  13614.00  18366.00"
      ]
     },
     "execution_count": 7,
     "metadata": {},
     "output_type": "execute_result"
    }
   ],
   "source": [
    "dat = { p:[ min([ np.percentile(i[s], 1) for i in sample_sizes[p] ]) for s in seconds ] for p in EVALUATION_PERIOD.keys() }\n",
    "\n",
    "df_sampling_5_percentile = pd.DataFrame(dat, index=seconds)\n",
    "\n",
    "df_sampling_5_percentile"
   ]
  },
  {
   "cell_type": "code",
   "execution_count": null,
   "metadata": {},
   "outputs": [],
   "source": []
  }
 ],
 "metadata": {
  "kernelspec": {
   "display_name": "Python 3",
   "language": "python",
   "name": "python3"
  },
  "language_info": {
   "codemirror_mode": {
    "name": "ipython",
    "version": 3
   },
   "file_extension": ".py",
   "mimetype": "text/x-python",
   "name": "python",
   "nbconvert_exporter": "python",
   "pygments_lexer": "ipython3",
   "version": "3.6.8"
  }
 },
 "nbformat": 4,
 "nbformat_minor": 2
}
