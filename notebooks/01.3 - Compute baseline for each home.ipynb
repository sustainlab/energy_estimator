{
 "cells": [
  {
   "cell_type": "markdown",
   "metadata": {},
   "source": [
    "The baseline period is defined as a maximum number of days before a \"start_time\". This start time likely will mark some start of a treatment etc. and thus the end of the baseline period. This time has to be provided externally and will be loaded by the notebook to limit the estimation period. The time available for the baseline computation can vary between homes and the dates used for each home will be written to the output file. In the IDEAL data, some homes were already collecting data for quite some time before they were allocated to treatment or control (marking the end of the baseline period). To not include seasonal effects etc in the baseline, it is possible to limit the number of days used for the baseline estimation in the config file."
   ]
  },
  {
   "cell_type": "code",
   "execution_count": 1,
   "metadata": {},
   "outputs": [
    {
     "name": "stdout",
     "output_type": "stream",
     "text": [
      "Populating the interactive namespace from numpy and matplotlib\n"
     ]
    }
   ],
   "source": [
    "%pylab inline"
   ]
  },
  {
   "cell_type": "code",
   "execution_count": 2,
   "metadata": {},
   "outputs": [],
   "source": [
    "import sys\n",
    "sys.path.insert(0, '../src')\n",
    "\n",
    "import re\n",
    "import pickle\n",
    "import datetime\n",
    "\n",
    "import numpy as np\n",
    "import pandas as pd\n",
    "\n",
    "import seaborn as sns\n",
    "\n",
    "from datetime import timedelta\n",
    "from pathlib import Path\n",
    "from multiprocessing import Pool\n",
    "from functools import partial\n",
    "\n",
    "from IdealDataInterface import IdealDataInterface\n",
    "\n",
    "from config import TIME_FORMAT, SAMPLING_MASK\n",
    "from config import SENSOR_DATA_FOLDER, CACHE_FOLDER, CPU_HIGH_MEMMORY, CPU_LOW_MEMMORY\n",
    "from config import EVALUATION_PERIOD, FFILL_LIMIT, SAMPLING_WINDOW_BASELINE, BASELINE_NR_DAYS, N_SAMPLES_BASELINE\n",
    "\n",
    "from utils import treatment_control, load_mains\n",
    "from sampling import data_to_sample_array, sample_energy, compute_sample_sizes"
   ]
  },
  {
   "cell_type": "code",
   "execution_count": 3,
   "metadata": {},
   "outputs": [],
   "source": [
    "# Run plotting styles\n",
    "%run -i '../src/sns_styles.py'\n",
    "\n",
    "cmap = sns.color_palette()"
   ]
  },
  {
   "cell_type": "code",
   "execution_count": 4,
   "metadata": {},
   "outputs": [
    {
     "data": {
      "text/html": [
       "<div>\n",
       "<style scoped>\n",
       "    .dataframe tbody tr th:only-of-type {\n",
       "        vertical-align: middle;\n",
       "    }\n",
       "\n",
       "    .dataframe tbody tr th {\n",
       "        vertical-align: top;\n",
       "    }\n",
       "\n",
       "    .dataframe thead th {\n",
       "        text-align: right;\n",
       "    }\n",
       "</style>\n",
       "<table border=\"1\" class=\"dataframe\">\n",
       "  <thead>\n",
       "    <tr style=\"text-align: right;\">\n",
       "      <th></th>\n",
       "      <th>homeid</th>\n",
       "      <th>group</th>\n",
       "      <th>start_date</th>\n",
       "      <th>end_date</th>\n",
       "    </tr>\n",
       "  </thead>\n",
       "  <tbody>\n",
       "    <tr>\n",
       "      <th>263</th>\n",
       "      <td>331</td>\n",
       "      <td>treatment</td>\n",
       "      <td>2018-05-15</td>\n",
       "      <td>2018-06-30</td>\n",
       "    </tr>\n",
       "    <tr>\n",
       "      <th>264</th>\n",
       "      <td>332</td>\n",
       "      <td>treatment</td>\n",
       "      <td>2018-05-15</td>\n",
       "      <td>2018-06-30</td>\n",
       "    </tr>\n",
       "    <tr>\n",
       "      <th>265</th>\n",
       "      <td>334</td>\n",
       "      <td>control</td>\n",
       "      <td>2018-05-15</td>\n",
       "      <td>2018-06-30</td>\n",
       "    </tr>\n",
       "    <tr>\n",
       "      <th>266</th>\n",
       "      <td>335</td>\n",
       "      <td>treatment</td>\n",
       "      <td>2018-05-15</td>\n",
       "      <td>2018-06-30</td>\n",
       "    </tr>\n",
       "    <tr>\n",
       "      <th>267</th>\n",
       "      <td>333</td>\n",
       "      <td>control</td>\n",
       "      <td>2018-05-15</td>\n",
       "      <td>2018-06-30</td>\n",
       "    </tr>\n",
       "  </tbody>\n",
       "</table>\n",
       "</div>"
      ],
      "text/plain": [
       "    homeid      group start_date   end_date\n",
       "263    331  treatment 2018-05-15 2018-06-30\n",
       "264    332  treatment 2018-05-15 2018-06-30\n",
       "265    334    control 2018-05-15 2018-06-30\n",
       "266    335  treatment 2018-05-15 2018-06-30\n",
       "267    333    control 2018-05-15 2018-06-30"
      ]
     },
     "execution_count": 4,
     "metadata": {},
     "output_type": "execute_result"
    }
   ],
   "source": [
    "# Load the information about when each home was assigned treatment or control. The start_date column sets \n",
    "# the end for the baseline period. This is currently hard-coded into the analysis pipeline. If the estimator\n",
    "# should be used for other data, the function treatment_control() must be modified to return a similar table.\n",
    "df_group = treatment_control()\n",
    "\n",
    "df_group.tail()"
   ]
  },
  {
   "cell_type": "code",
   "execution_count": 5,
   "metadata": {},
   "outputs": [
    {
     "name": "stdout",
     "output_type": "stream",
     "text": [
      "Found 107 homes in the control group\n",
      "Found 106 homes in the treatment group\n",
      "Found 39 homes in the enhanced group\n"
     ]
    }
   ],
   "source": [
    "# Separate into control, treatment, and enhanced\n",
    "homeid_control = df_group.loc[df_group['group'] == 'control','homeid']\n",
    "homeid_treatment = df_group.loc[df_group['group'] == 'treatment','homeid']\n",
    "homeid_enhanced = df_group.loc[df_group['group'] == 'enhanced','homeid']\n",
    "\n",
    "print('Found {} homes in the control group'.format(len(homeid_control)))\n",
    "print('Found {} homes in the treatment group'.format(len(homeid_treatment)))\n",
    "print('Found {} homes in the enhanced group'.format(len(homeid_enhanced)))"
   ]
  },
  {
   "cell_type": "code",
   "execution_count": 6,
   "metadata": {},
   "outputs": [],
   "source": [
    "# Load the electricity readings, create the array to sample from, and compute the estimate\n",
    "def compute_baseline(homeid, seconds, N):\n",
    "    # Load the mains electricity readings\n",
    "    ts = load_mains(homeid)\n",
    "        \n",
    "    # Limit to the baseline period (before being allocated to control or treatment)\n",
    "    df_group = treatment_control()\n",
    "    start_date = df_group.loc[df_group['homeid'] == homeid,'start_date'].values[0]\n",
    "    ts = ts[(ts.index >= ts.index.min().ceil('D')) & (ts.index < start_date)]\n",
    "    \n",
    "    assert len(ts) > 0\n",
    "    \n",
    "    # Record the number of days available for the baseline\n",
    "    # The +1 is there as the difference will be e.g. 13 days 23:59:59 seconds\n",
    "    nr_days = (ts.index.max() - ts.index.min()).days + 1\n",
    "    \n",
    "    # Limit the data so that the baseline is computed on a maximum number of days\n",
    "    ts = ts[ts.index > (ts.index.max() - timedelta(days=BASELINE_NR_DAYS))]\n",
    "        \n",
    "    # Compute the sampling sizes depending on the window_width as specified in seconds\n",
    "    sample_sizes = compute_sample_sizes(ts, seconds)\n",
    "    sample_sizes = { k:min(v) for k,v in sample_sizes.items() }\n",
    "    \n",
    "    # Compute the baseline estimate\n",
    "    arr, idx = data_to_sample_array(ts, window_width=None)\n",
    "    \n",
    "    # Estimates will be nan if they can't be computed\n",
    "    estimates = np.array([np.nan, ])\n",
    "    if not (idx == 0).any():\n",
    "        estimates = sample_energy(N, arr, idx, SAMPLING_MASK, window_width=SAMPLING_WINDOW_BASELINE)\n",
    "    \n",
    "    return {'estimate_mean':np.mean(estimates), \n",
    "            'estimate_std':np.std(estimates), \n",
    "            'sample_sizes':sample_sizes,\n",
    "            'missing_data':ts.isna().mean(),\n",
    "            'nr_days':nr_days,\n",
    "            'baseline_start':ts.index.min(),\n",
    "            'baseline_end':ts.index.max(),\n",
    "           }"
   ]
  },
  {
   "cell_type": "code",
   "execution_count": 7,
   "metadata": {},
   "outputs": [
    {
     "name": "stdout",
     "output_type": "stream",
     "text": [
      "Computing the baseline estimates per home. This may take a while..\n",
      "Done.\n"
     ]
    }
   ],
   "source": [
    "# The sample size will be computed for window_width parameters of the following. This should\n",
    "# give a feel for what an appropriate value for the window_width might be.\n",
    "seconds = [1,2,3,4,5,10,15,30,60,90,120]\n",
    "\n",
    "if not SAMPLING_WINDOW_BASELINE in seconds:\n",
    "    seconds.append(SAMPLING_WINDOW_BASELINE)\n",
    "    seconds.sort()\n",
    "\n",
    "# Set up the function for multiprocessing\n",
    "func = partial(compute_baseline, seconds=seconds, N=N_SAMPLES_BASELINE)\n",
    "\n",
    "homeids = list(homeid_control) + list(homeid_treatment)\n",
    "\n",
    "print('Computing the baseline estimates per home. This may take a while..')\n",
    "with Pool(processes=2*CPU_HIGH_MEMMORY) as pool:\n",
    "    baseline_results = pool.map(func, homeids)\n",
    "print('Done.')"
   ]
  },
  {
   "cell_type": "code",
   "execution_count": 8,
   "metadata": {},
   "outputs": [
    {
     "name": "stdout",
     "output_type": "stream",
     "text": [
      "Computed estimates for 213 homes\n"
     ]
    }
   ],
   "source": [
    "print('Computed estimates for {} homes'.format(len(baseline_results)))"
   ]
  },
  {
   "cell_type": "markdown",
   "metadata": {},
   "source": [
    "## Check the minimum sampling size\n",
    "\n",
    "This is is worst case that occured for at least one time point of the day"
   ]
  },
  {
   "cell_type": "code",
   "execution_count": 9,
   "metadata": {},
   "outputs": [
    {
     "data": {
      "text/html": [
       "<div>\n",
       "<style scoped>\n",
       "    .dataframe tbody tr th:only-of-type {\n",
       "        vertical-align: middle;\n",
       "    }\n",
       "\n",
       "    .dataframe tbody tr th {\n",
       "        vertical-align: top;\n",
       "    }\n",
       "\n",
       "    .dataframe thead th {\n",
       "        text-align: right;\n",
       "    }\n",
       "</style>\n",
       "<table border=\"1\" class=\"dataframe\">\n",
       "  <thead>\n",
       "    <tr style=\"text-align: right;\">\n",
       "      <th></th>\n",
       "      <th>0</th>\n",
       "      <th>1</th>\n",
       "      <th>2</th>\n",
       "      <th>3</th>\n",
       "      <th>4</th>\n",
       "      <th>5</th>\n",
       "      <th>10</th>\n",
       "      <th>15</th>\n",
       "      <th>30</th>\n",
       "      <th>60</th>\n",
       "      <th>90</th>\n",
       "      <th>120</th>\n",
       "    </tr>\n",
       "  </thead>\n",
       "  <tbody>\n",
       "    <tr>\n",
       "      <th>59</th>\n",
       "      <td>39</td>\n",
       "      <td>117</td>\n",
       "      <td>195</td>\n",
       "      <td>273</td>\n",
       "      <td>351</td>\n",
       "      <td>429</td>\n",
       "      <td>819</td>\n",
       "      <td>1209</td>\n",
       "      <td>2379</td>\n",
       "      <td>4749</td>\n",
       "      <td>7149</td>\n",
       "      <td>9549</td>\n",
       "    </tr>\n",
       "    <tr>\n",
       "      <th>74</th>\n",
       "      <td>39</td>\n",
       "      <td>117</td>\n",
       "      <td>195</td>\n",
       "      <td>273</td>\n",
       "      <td>351</td>\n",
       "      <td>429</td>\n",
       "      <td>819</td>\n",
       "      <td>1211</td>\n",
       "      <td>2411</td>\n",
       "      <td>4811</td>\n",
       "      <td>7211</td>\n",
       "      <td>9611</td>\n",
       "    </tr>\n",
       "    <tr>\n",
       "      <th>78</th>\n",
       "      <td>34</td>\n",
       "      <td>102</td>\n",
       "      <td>170</td>\n",
       "      <td>238</td>\n",
       "      <td>306</td>\n",
       "      <td>374</td>\n",
       "      <td>721</td>\n",
       "      <td>1078</td>\n",
       "      <td>2147</td>\n",
       "      <td>4299</td>\n",
       "      <td>6517</td>\n",
       "      <td>8730</td>\n",
       "    </tr>\n",
       "    <tr>\n",
       "      <th>71</th>\n",
       "      <td>38</td>\n",
       "      <td>116</td>\n",
       "      <td>194</td>\n",
       "      <td>272</td>\n",
       "      <td>350</td>\n",
       "      <td>428</td>\n",
       "      <td>818</td>\n",
       "      <td>1208</td>\n",
       "      <td>2403</td>\n",
       "      <td>4807</td>\n",
       "      <td>7217</td>\n",
       "      <td>9617</td>\n",
       "    </tr>\n",
       "    <tr>\n",
       "      <th>76</th>\n",
       "      <td>25</td>\n",
       "      <td>77</td>\n",
       "      <td>130</td>\n",
       "      <td>183</td>\n",
       "      <td>235</td>\n",
       "      <td>288</td>\n",
       "      <td>558</td>\n",
       "      <td>836</td>\n",
       "      <td>1663</td>\n",
       "      <td>3388</td>\n",
       "      <td>5218</td>\n",
       "      <td>7066</td>\n",
       "    </tr>\n",
       "  </tbody>\n",
       "</table>\n",
       "</div>"
      ],
      "text/plain": [
       "    0    1    2    3    4    5    10    15    30    60    90    120\n",
       "59   39  117  195  273  351  429  819  1209  2379  4749  7149  9549\n",
       "74   39  117  195  273  351  429  819  1211  2411  4811  7211  9611\n",
       "78   34  102  170  238  306  374  721  1078  2147  4299  6517  8730\n",
       "71   38  116  194  272  350  428  818  1208  2403  4807  7217  9617\n",
       "76   25   77  130  183  235  288  558   836  1663  3388  5218  7066"
      ]
     },
     "execution_count": 9,
     "metadata": {},
     "output_type": "execute_result"
    }
   ],
   "source": [
    "# Extract the minimum number of samples\n",
    "df = pd.DataFrame([ item['sample_sizes'] for item in baseline_results ], index=homeids, dtype=int)\n",
    "\n",
    "df.head()"
   ]
  },
  {
   "cell_type": "code",
   "execution_count": 10,
   "metadata": {},
   "outputs": [
    {
     "data": {
      "text/plain": [
       "0        0\n",
       "1        0\n",
       "2        0\n",
       "3        0\n",
       "4        0\n",
       "5        0\n",
       "10       0\n",
       "15       3\n",
       "30      11\n",
       "60      74\n",
       "90     147\n",
       "120    244\n",
       "dtype: int64"
      ]
     },
     "execution_count": 10,
     "metadata": {},
     "output_type": "execute_result"
    }
   ],
   "source": [
    "# The absolute minumum observed for at least one home for the different window_width parameters (the index)\n",
    "# A value of 0 indicates that it is impossible to compute a baseline for at least one home if the window_width\n",
    "# is chosen as indicated by the index.\n",
    "df.min(axis=0)"
   ]
  },
  {
   "cell_type": "markdown",
   "metadata": {},
   "source": [
    "## Write the result to disk"
   ]
  },
  {
   "cell_type": "code",
   "execution_count": 11,
   "metadata": {},
   "outputs": [
    {
     "data": {
      "text/html": [
       "<div>\n",
       "<style scoped>\n",
       "    .dataframe tbody tr th:only-of-type {\n",
       "        vertical-align: middle;\n",
       "    }\n",
       "\n",
       "    .dataframe tbody tr th {\n",
       "        vertical-align: top;\n",
       "    }\n",
       "\n",
       "    .dataframe thead th {\n",
       "        text-align: right;\n",
       "    }\n",
       "</style>\n",
       "<table border=\"1\" class=\"dataframe\">\n",
       "  <thead>\n",
       "    <tr style=\"text-align: right;\">\n",
       "      <th></th>\n",
       "      <th>homeid</th>\n",
       "      <th>estimate_mean</th>\n",
       "      <th>estimate_std</th>\n",
       "      <th>min_sample_size</th>\n",
       "      <th>missing_data</th>\n",
       "      <th>baseline_start</th>\n",
       "      <th>baseline_end</th>\n",
       "      <th>nr_days_available</th>\n",
       "    </tr>\n",
       "  </thead>\n",
       "  <tbody>\n",
       "    <tr>\n",
       "      <th>0</th>\n",
       "      <td>59</td>\n",
       "      <td>6.934674</td>\n",
       "      <td>0.032738</td>\n",
       "      <td>4749</td>\n",
       "      <td>0.022207</td>\n",
       "      <td>2017-02-02</td>\n",
       "      <td>2017-03-15 23:59:59</td>\n",
       "      <td>160</td>\n",
       "    </tr>\n",
       "    <tr>\n",
       "      <th>1</th>\n",
       "      <td>74</td>\n",
       "      <td>14.350139</td>\n",
       "      <td>0.036927</td>\n",
       "      <td>4811</td>\n",
       "      <td>0.018192</td>\n",
       "      <td>2017-02-02</td>\n",
       "      <td>2017-03-15 23:59:59</td>\n",
       "      <td>69</td>\n",
       "    </tr>\n",
       "    <tr>\n",
       "      <th>2</th>\n",
       "      <td>78</td>\n",
       "      <td>6.802723</td>\n",
       "      <td>0.037634</td>\n",
       "      <td>4299</td>\n",
       "      <td>0.064080</td>\n",
       "      <td>2017-03-04</td>\n",
       "      <td>2017-04-14 23:59:59</td>\n",
       "      <td>85</td>\n",
       "    </tr>\n",
       "    <tr>\n",
       "      <th>3</th>\n",
       "      <td>71</td>\n",
       "      <td>5.591710</td>\n",
       "      <td>0.032068</td>\n",
       "      <td>4807</td>\n",
       "      <td>0.008122</td>\n",
       "      <td>2017-04-04</td>\n",
       "      <td>2017-05-15 23:59:59</td>\n",
       "      <td>124</td>\n",
       "    </tr>\n",
       "    <tr>\n",
       "      <th>4</th>\n",
       "      <td>76</td>\n",
       "      <td>12.003025</td>\n",
       "      <td>0.043057</td>\n",
       "      <td>3388</td>\n",
       "      <td>0.191335</td>\n",
       "      <td>2017-02-02</td>\n",
       "      <td>2017-03-15 23:59:59</td>\n",
       "      <td>56</td>\n",
       "    </tr>\n",
       "  </tbody>\n",
       "</table>\n",
       "</div>"
      ],
      "text/plain": [
       "  homeid  estimate_mean  estimate_std  min_sample_size  missing_data  \\\n",
       "0     59       6.934674      0.032738             4749      0.022207   \n",
       "1     74      14.350139      0.036927             4811      0.018192   \n",
       "2     78       6.802723      0.037634             4299      0.064080   \n",
       "3     71       5.591710      0.032068             4807      0.008122   \n",
       "4     76      12.003025      0.043057             3388      0.191335   \n",
       "\n",
       "  baseline_start        baseline_end  nr_days_available  \n",
       "0     2017-02-02 2017-03-15 23:59:59                160  \n",
       "1     2017-02-02 2017-03-15 23:59:59                 69  \n",
       "2     2017-03-04 2017-04-14 23:59:59                 85  \n",
       "3     2017-04-04 2017-05-15 23:59:59                124  \n",
       "4     2017-02-02 2017-03-15 23:59:59                 56  "
      ]
     },
     "execution_count": 11,
     "metadata": {},
     "output_type": "execute_result"
    }
   ],
   "source": [
    "# Construct the final DataFrame\n",
    "data = [ {'estimate_mean':v['estimate_mean'],\n",
    "          'estimate_std':v['estimate_std'],\n",
    "          'min_sample_size':v['sample_sizes'][SAMPLING_WINDOW_BASELINE][0],\n",
    "          'missing_data':v['missing_data'],\n",
    "          'nr_days_available':v['nr_days'],\n",
    "          'baseline_start':v['baseline_start'],\n",
    "          'baseline_end':v['baseline_end'],\n",
    "         } for v in baseline_results ]\n",
    "\n",
    "df_result = pd.DataFrame(data)\n",
    "\n",
    "df_result['homeid'] = homeids\n",
    "\n",
    "df_result = df_result[['homeid', 'estimate_mean', 'estimate_std', 'min_sample_size',\n",
    "                       'missing_data', 'baseline_start', 'baseline_end', 'nr_days_available']]\n",
    "\n",
    "df_result.head()"
   ]
  },
  {
   "cell_type": "code",
   "execution_count": 12,
   "metadata": {
    "scrolled": true
   },
   "outputs": [],
   "source": [
    "# Save the DataFrame to disk\n",
    "fname = '../data/baseline_estimates_per_home.csv'\n",
    "\n",
    "df_result.reset_index().to_csv(fname, sep='\\t', float_format='%.3f', date_format=TIME_FORMAT, index=False)"
   ]
  },
  {
   "cell_type": "code",
   "execution_count": null,
   "metadata": {},
   "outputs": [],
   "source": []
  },
  {
   "cell_type": "code",
   "execution_count": null,
   "metadata": {},
   "outputs": [],
   "source": []
  },
  {
   "cell_type": "code",
   "execution_count": null,
   "metadata": {},
   "outputs": [],
   "source": []
  }
 ],
 "metadata": {
  "kernelspec": {
   "display_name": "Python 3",
   "language": "python",
   "name": "python3"
  },
  "language_info": {
   "codemirror_mode": {
    "name": "ipython",
    "version": 3
   },
   "file_extension": ".py",
   "mimetype": "text/x-python",
   "name": "python",
   "nbconvert_exporter": "python",
   "pygments_lexer": "ipython3",
   "version": "3.6.8"
  }
 },
 "nbformat": 4,
 "nbformat_minor": 2
}
