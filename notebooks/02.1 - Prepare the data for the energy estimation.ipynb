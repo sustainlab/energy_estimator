{
 "cells": [
  {
   "cell_type": "markdown",
   "metadata": {},
   "source": [
    "Load the electricity readings for every period. This will create one np.memmap for each period. A memmap is basically a \"normal\" numpy array sitting on disk instead of in memory. It allows to create and work with arrays that do not fit into RAM. Each created np.memmap contains the reading for one home in a column (that is, it has as many columns as there are homes to use). Additional information like which home is in which column etc will be stored in an additional file."
   ]
  },
  {
   "cell_type": "code",
   "execution_count": 1,
   "metadata": {},
   "outputs": [
    {
     "name": "stdout",
     "output_type": "stream",
     "text": [
      "Populating the interactive namespace from numpy and matplotlib\n"
     ]
    }
   ],
   "source": [
    "%pylab inline"
   ]
  },
  {
   "cell_type": "code",
   "execution_count": 2,
   "metadata": {},
   "outputs": [],
   "source": [
    "import sys\n",
    "sys.path.insert(0, '../src')\n",
    "\n",
    "import pickle\n",
    "import datetime\n",
    "\n",
    "import numpy as np\n",
    "import pandas as pd\n",
    "\n",
    "import seaborn as sns\n",
    "\n",
    "from pathlib import Path\n",
    "from multiprocessing import Pool\n",
    "from functools import partial\n",
    "\n",
    "from IdealDataInterface import IdealDataInterface\n",
    "\n",
    "from utils import treatment_control, load_mains\n",
    "from config import SENSOR_DATA_FOLDER, CACHE_FOLDER, CPU_HIGH_MEMMORY, CPU_LOW_MEMMORY\n",
    "from config import EVALUATION_PERIOD, FFILL_LIMIT, READING_FREQ"
   ]
  },
  {
   "cell_type": "code",
   "execution_count": 3,
   "metadata": {},
   "outputs": [],
   "source": [
    "# Run plotting styles\n",
    "%run -i '../src/sns_styles.py'\n",
    "\n",
    "cmap = sns.color_palette()"
   ]
  },
  {
   "cell_type": "raw",
   "metadata": {},
   "source": [
    "data_interface = IdealDataInterface(SENSOR_DATA_FOLDER)"
   ]
  },
  {
   "cell_type": "raw",
   "metadata": {},
   "source": [
    "df_sensors = data_interface.view(subtype='electric-combined')\n",
    "\n",
    "df_sensors.head()"
   ]
  },
  {
   "cell_type": "code",
   "execution_count": 4,
   "metadata": {},
   "outputs": [
    {
     "data": {
      "text/html": [
       "<div>\n",
       "<style scoped>\n",
       "    .dataframe tbody tr th:only-of-type {\n",
       "        vertical-align: middle;\n",
       "    }\n",
       "\n",
       "    .dataframe tbody tr th {\n",
       "        vertical-align: top;\n",
       "    }\n",
       "\n",
       "    .dataframe thead th {\n",
       "        text-align: right;\n",
       "    }\n",
       "</style>\n",
       "<table border=\"1\" class=\"dataframe\">\n",
       "  <thead>\n",
       "    <tr style=\"text-align: right;\">\n",
       "      <th></th>\n",
       "      <th>homeid</th>\n",
       "      <th>group</th>\n",
       "      <th>start_date</th>\n",
       "      <th>end_date</th>\n",
       "    </tr>\n",
       "  </thead>\n",
       "  <tbody>\n",
       "    <tr>\n",
       "      <th>263</th>\n",
       "      <td>331</td>\n",
       "      <td>treatment</td>\n",
       "      <td>2018-05-15</td>\n",
       "      <td>2018-06-30</td>\n",
       "    </tr>\n",
       "    <tr>\n",
       "      <th>264</th>\n",
       "      <td>332</td>\n",
       "      <td>treatment</td>\n",
       "      <td>2018-05-15</td>\n",
       "      <td>2018-06-30</td>\n",
       "    </tr>\n",
       "    <tr>\n",
       "      <th>265</th>\n",
       "      <td>334</td>\n",
       "      <td>control</td>\n",
       "      <td>2018-05-15</td>\n",
       "      <td>2018-06-30</td>\n",
       "    </tr>\n",
       "    <tr>\n",
       "      <th>266</th>\n",
       "      <td>335</td>\n",
       "      <td>treatment</td>\n",
       "      <td>2018-05-15</td>\n",
       "      <td>2018-06-30</td>\n",
       "    </tr>\n",
       "    <tr>\n",
       "      <th>267</th>\n",
       "      <td>333</td>\n",
       "      <td>control</td>\n",
       "      <td>2018-05-15</td>\n",
       "      <td>2018-06-30</td>\n",
       "    </tr>\n",
       "  </tbody>\n",
       "</table>\n",
       "</div>"
      ],
      "text/plain": [
       "    homeid      group start_date   end_date\n",
       "263    331  treatment 2018-05-15 2018-06-30\n",
       "264    332  treatment 2018-05-15 2018-06-30\n",
       "265    334    control 2018-05-15 2018-06-30\n",
       "266    335  treatment 2018-05-15 2018-06-30\n",
       "267    333    control 2018-05-15 2018-06-30"
      ]
     },
     "execution_count": 4,
     "metadata": {},
     "output_type": "execute_result"
    }
   ],
   "source": [
    "df_group = treatment_control()\n",
    "\n",
    "df_group.tail()"
   ]
  },
  {
   "cell_type": "code",
   "execution_count": 5,
   "metadata": {},
   "outputs": [
    {
     "name": "stdout",
     "output_type": "stream",
     "text": [
      "Found 107 homes in the control group\n",
      "Found 107 homes in the treatment group\n",
      "Found 39 homes in the enhanced group\n"
     ]
    }
   ],
   "source": [
    "homeid_control = df_group.loc[df_group['group'] == 'control','homeid']\n",
    "homeid_treatment = df_group.loc[df_group['group'] == 'treatment','homeid']\n",
    "homeid_enhanced = df_group.loc[df_group['group'] == 'enhanced','homeid']\n",
    "\n",
    "print('Found {} homes in the control group'.format(len(homeid_control)))\n",
    "print('Found {} homes in the treatment group'.format(len(homeid_treatment)))\n",
    "print('Found {} homes in the enhanced group'.format(len(homeid_enhanced)))"
   ]
  },
  {
   "cell_type": "code",
   "execution_count": 6,
   "metadata": {},
   "outputs": [],
   "source": [
    "# Create and define the folder to store computation results\n",
    "fpath = CACHE_FOLDER / Path('sampling_cache/')\n",
    "\n",
    "if not fpath.is_dir():\n",
    "    fpath.mkdir()"
   ]
  },
  {
   "cell_type": "markdown",
   "metadata": {},
   "source": [
    "Each period can be a varying length and each np.memmap might thus have a different number of rows. In the following, the shape of the memmaps is pre-computed and stored as this will be needed when loading the memmaps again."
   ]
  },
  {
   "cell_type": "code",
   "execution_count": 7,
   "metadata": {},
   "outputs": [],
   "source": [
    "# Specify the homeids which should be loaded\n",
    "homeids = list(homeid_control) + list(homeid_treatment)\n",
    "\n",
    "# Pre-compute the index for each period defined in config.py\n",
    "date_ranges = dict()\n",
    "for period, (start_date, end_date) in EVALUATION_PERIOD.items():\n",
    "    # Assemble the time index, closed=None as the index should be set in EVALUATION_PERIOD\n",
    "    # such that the start is the first index that should be included and the end such \n",
    "    # that this is the last value that should be included.\n",
    "    # << Can you add a note about why the freq below is 1S and not READING_FREQ? (fixed)\n",
    "    index = pd.date_range(start=start_date, end=end_date, freq=READING_FREQ, closed=None)\n",
    "    \n",
    "    # Store the index\n",
    "    date_ranges[period] = index\n",
    "\n",
    "\n",
    "# Compute the shape each memmap must have\n",
    "shapes = { period:(len(date_ranges[period]),len(homeids)) for period in EVALUATION_PERIOD.keys() }"
   ]
  },
  {
   "cell_type": "code",
   "execution_count": 8,
   "metadata": {},
   "outputs": [
    {
     "name": "stdout",
     "output_type": "stream",
     "text": [
      "Dumping the additional information..\n",
      "Done.\n"
     ]
    }
   ],
   "source": [
    "# Filenames for the memmaps\n",
    "fname = lambda s: fpath / Path('mmap_readings_period_{}.npy'.format(s))\n",
    "    \n",
    "# Store all the additional information to disk\n",
    "print('Dumping the additional information..')\n",
    "pickle.dump((homeids, date_ranges, shapes), open(fpath / Path('mmap_supplement.pkl'), 'wb'))\n",
    "print('Done.')"
   ]
  },
  {
   "cell_type": "markdown",
   "metadata": {},
   "source": [
    "Load the data for each home and place the readings into the respective memmaps."
   ]
  },
  {
   "cell_type": "code",
   "execution_count": 9,
   "metadata": {},
   "outputs": [
    {
     "name": "stdout",
     "output_type": "stream",
     "text": [
      "Loading the readings..\n",
      "Done.\n"
     ]
    }
   ],
   "source": [
    "# Create the memmaps. THIS WILL OVERWRITE EXISTING FILES!!!\n",
    "mmaps = { p:np.memmap(fname(p), dtype='float32', mode='w+', shape=shapes[p]) for p in EVALUATION_PERIOD.keys() }\n",
    "\n",
    "# Load the readings and put them into the memmap\n",
    "print('Loading the readings..')\n",
    "for col, homeid in enumerate(homeids):\n",
    "    # Load the mains electricity readings\n",
    "    ts = load_mains(homeid)\n",
    "    \n",
    "    # Iterate over each period and put the data into the memmap\n",
    "    for p in EVALUATION_PERIOD.keys():\n",
    "        # Get the pre-computed index\n",
    "        index = date_ranges[p]\n",
    "        \n",
    "        # Limit the data to the current evaluation period. This will be done by joining the\n",
    "        # readings to an all missing DataFrame as this will ensure that we'll always have\n",
    "        # at least NaNs in the final DataFrame.\n",
    "        tsr = pd.DataFrame(np.nan, index=index, columns=['missing']).join(ts, how='left')\n",
    "        del tsr['missing']\n",
    "        tsr = tsr.squeeze()\n",
    "        \n",
    "        # Store the result in the memmap\n",
    "        mmaps[p][:,col] = tsr.values\n",
    "        \n",
    "# Make sure all data is written to disk\n",
    "for k,v in mmaps.items():\n",
    "    v.flush()\n",
    "    \n",
    "print('Done.')"
   ]
  },
  {
   "cell_type": "code",
   "execution_count": null,
   "metadata": {},
   "outputs": [],
   "source": []
  },
  {
   "cell_type": "code",
   "execution_count": null,
   "metadata": {},
   "outputs": [],
   "source": []
  },
  {
   "cell_type": "code",
   "execution_count": null,
   "metadata": {},
   "outputs": [],
   "source": []
  }
 ],
 "metadata": {
  "kernelspec": {
   "display_name": "Python 3",
   "language": "python",
   "name": "python3"
  },
  "language_info": {
   "codemirror_mode": {
    "name": "ipython",
    "version": 3
   },
   "file_extension": ".py",
   "mimetype": "text/x-python",
   "name": "python",
   "nbconvert_exporter": "python",
   "pygments_lexer": "ipython3",
   "version": "3.6.8"
  }
 },
 "nbformat": 4,
 "nbformat_minor": 2
}
